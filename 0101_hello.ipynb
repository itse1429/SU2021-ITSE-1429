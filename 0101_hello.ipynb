{
  "nbformat": 4,
  "nbformat_minor": 0,
  "metadata": {
    "colab": {
      "name": "0101-hello.ipynb",
      "provenance": [],
      "authorship_tag": "ABX9TyNeQoYnbk82C4iXWqWXfBw4",
      "include_colab_link": true
    },
    "kernelspec": {
      "name": "python3",
      "display_name": "Python 3"
    },
    "language_info": {
      "name": "python"
    }
  },
  "cells": [
    {
      "cell_type": "markdown",
      "metadata": {
        "id": "view-in-github",
        "colab_type": "text"
      },
      "source": [
        "<a href=\"https://colab.research.google.com/github/itse1429/SU2021-ITSE-1429/blob/main/0101_hello.ipynb\" target=\"_parent\"><img src=\"https://colab.research.google.com/assets/colab-badge.svg\" alt=\"Open In Colab\"/></a>"
      ]
    },
    {
      "cell_type": "code",
      "metadata": {
        "colab": {
          "base_uri": "https://localhost:8080/"
        },
        "id": "tjSZjPT1n7A9",
        "outputId": "7d2002b7-edd8-42be-8a85-0e6aea9e9f5b"
      },
      "source": [
        "print('Hello, World!')\n",
        "print(\"My name is Francisco and I'm coding in Python!\")"
      ],
      "execution_count": 2,
      "outputs": [
        {
          "output_type": "stream",
          "text": [
            "Hello, World!\n",
            "My name is Francisco and I'm coding in Python!\n"
          ],
          "name": "stdout"
        }
      ]
    }
  ]
}