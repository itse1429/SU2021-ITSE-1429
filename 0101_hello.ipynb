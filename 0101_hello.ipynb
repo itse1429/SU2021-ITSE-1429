{
  "nbformat": 4,
  "nbformat_minor": 0,
  "metadata": {
    "colab": {
      "name": "0101-hello.ipynb",
      "provenance": [],
      "authorship_tag": "ABX9TyNLp47IamdoJhnJt8jmgDYw",
      "include_colab_link": true
    },
    "kernelspec": {
      "name": "python3",
      "display_name": "Python 3"
    },
    "language_info": {
      "name": "python"
    }
  },
  "cells": [
    {
      "cell_type": "markdown",
      "metadata": {
        "id": "view-in-github",
        "colab_type": "text"
      },
      "source": [
        "<a href=\"https://colab.research.google.com/github/itse1429/SU2021-ITSE-1429/blob/main/0101_hello.ipynb\" target=\"_parent\"><img src=\"https://colab.research.google.com/assets/colab-badge.svg\" alt=\"Open In Colab\"/></a>"
      ]
    },
    {
      "cell_type": "code",
      "metadata": {
        "colab": {
          "base_uri": "https://localhost:8080/"
        },
        "id": "tjSZjPT1n7A9",
        "outputId": "6eb813bb-c531-4741-dcd3-2fbd52377992"
      },
      "source": [
        "print('Hello, World!')\n",
        "print(\"My name is Francisco and I'm coding in Python!\")\n",
        "print(\"I will continue to code...\")"
      ],
      "execution_count": 3,
      "outputs": [
        {
          "output_type": "stream",
          "text": [
            "Hello, World!\n",
            "My name is Francisco and I'm coding in Python!\n",
            "I will continue to code...\n"
          ],
          "name": "stdout"
        }
      ]
    }
  ]
}